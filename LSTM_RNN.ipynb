{
  "nbformat": 4,
  "nbformat_minor": 0,
  "metadata": {
    "colab": {
      "name": "LSTM_RNN.ipynb",
      "provenance": [],
      "collapsed_sections": [],
      "toc_visible": true
    },
    "kernelspec": {
      "name": "python3",
      "display_name": "Python 3"
    }
  },
  "cells": [
    {
      "cell_type": "code",
      "metadata": {
        "id": "RbzIx2MKQ9fc"
      },
      "source": [
        "#https://pytorch.org/tutorials/intermediate/char_rnn_classification_tutorial\n",
        "from __future__ import unicode_literals, print_function, division\n",
        "from io import open\n",
        "import glob\n",
        "import os"
      ],
      "execution_count": 1,
      "outputs": []
    },
    {
      "cell_type": "code",
      "metadata": {
        "id": "_3-F67u4RKbV"
      },
      "source": [
        "def findFiles(path): return glob.glob(path)"
      ],
      "execution_count": 2,
      "outputs": []
    },
    {
      "cell_type": "code",
      "metadata": {
        "id": "xC6sG9NitshE",
        "colab": {
          "base_uri": "https://localhost:8080/"
        },
        "outputId": "ce26e401-b182-4d63-8263-e9afc7963451"
      },
      "source": [
        "from google.colab import drive\n",
        "drive.mount('/content/drive')"
      ],
      "execution_count": 5,
      "outputs": [
        {
          "output_type": "stream",
          "text": [
            "Mounted at /content/drive\n"
          ],
          "name": "stdout"
        }
      ]
    },
    {
      "cell_type": "code",
      "metadata": {
        "id": "95JMGJUdRYNb",
        "colab": {
          "base_uri": "https://localhost:8080/"
        },
        "outputId": "2171ca57-bd96-4140-888a-9427b64bcf28"
      },
      "source": [
        "print(findFiles('/content/drive/My Drive/data/data/names/*.txt'))"
      ],
      "execution_count": 3,
      "outputs": [
        {
          "output_type": "stream",
          "text": [
            "['/content/drive/My Drive/data/data/names/Arabic.txt', '/content/drive/My Drive/data/data/names/Dutch.txt', '/content/drive/My Drive/data/data/names/Czech.txt', '/content/drive/My Drive/data/data/names/Chinese.txt', '/content/drive/My Drive/data/data/names/Greek.txt', '/content/drive/My Drive/data/data/names/German.txt', '/content/drive/My Drive/data/data/names/French.txt', '/content/drive/My Drive/data/data/names/Japanese.txt', '/content/drive/My Drive/data/data/names/Irish.txt', '/content/drive/My Drive/data/data/names/Italian.txt', '/content/drive/My Drive/data/data/names/English.txt', '/content/drive/My Drive/data/data/names/Polish.txt', '/content/drive/My Drive/data/data/names/Portuguese.txt', '/content/drive/My Drive/data/data/names/Korean.txt', '/content/drive/My Drive/data/data/names/Russian.txt', '/content/drive/My Drive/data/data/names/Spanish.txt', '/content/drive/My Drive/data/data/names/Vietnamese.txt', '/content/drive/My Drive/data/data/names/Scottish.txt']\n"
          ],
          "name": "stdout"
        }
      ]
    },
    {
      "cell_type": "code",
      "metadata": {
        "id": "s9xB1GzIRjsA"
      },
      "source": [
        "import unicodedata\n",
        "import string\n",
        "all_letters = string.ascii_letters + \" .,;'\"\n",
        "n_letters = len(all_letters)"
      ],
      "execution_count": 4,
      "outputs": []
    },
    {
      "cell_type": "code",
      "metadata": {
        "id": "dZXon7L4Rwi0"
      },
      "source": [
        "def unicodeToAscii(s):\n",
        "    return ''.join(\n",
        "        c for c in unicodedata.normalize('NFD', s)\n",
        "        if unicodedata.category(c) != 'Mn'\n",
        "        and c in all_letters\n",
        "    )"
      ],
      "execution_count": 5,
      "outputs": []
    },
    {
      "cell_type": "code",
      "metadata": {
        "id": "OA5GHxWmlyMP",
        "colab": {
          "base_uri": "https://localhost:8080/"
        },
        "outputId": "25a4f7d2-6c5e-4fad-d687-e21c8bc63c3a"
      },
      "source": [
        "print(unicodeToAscii('Ślusàrski'))"
      ],
      "execution_count": 6,
      "outputs": [
        {
          "output_type": "stream",
          "text": [
            "Slusarski\n"
          ],
          "name": "stdout"
        }
      ]
    },
    {
      "cell_type": "code",
      "metadata": {
        "id": "tt1x4lFtmAo7"
      },
      "source": [
        "# Build the category_lines dictionary, a list of names per language\n",
        "category_lines = {}\n",
        "all_categories = []\n",
        "\n",
        "# Read a file and split into lines\n",
        "def readLines(filename):\n",
        "    lines = open(filename, encoding='utf-8').read().strip().split('\\n')\n",
        "    return [unicodeToAscii(line) for line in lines]\n",
        "\n",
        "for filename in findFiles('/content/drive/My Drive/data/data/names/*.txt'):\n",
        "    category = os.path.splitext(os.path.basename(filename))[0]\n",
        "    all_categories.append(category)\n",
        "    lines = readLines(filename)\n",
        "    category_lines[category] = lines\n",
        "\n",
        "n_categories = len(all_categories)"
      ],
      "execution_count": 7,
      "outputs": []
    },
    {
      "cell_type": "code",
      "metadata": {
        "id": "ZPCzwn9EmNYn",
        "colab": {
          "base_uri": "https://localhost:8080/"
        },
        "outputId": "d1f00387-c675-4cb4-f6a8-a62e93e25df9"
      },
      "source": [
        "print(all_categories)"
      ],
      "execution_count": 8,
      "outputs": [
        {
          "output_type": "stream",
          "text": [
            "['Arabic', 'Dutch', 'Czech', 'Chinese', 'Greek', 'German', 'French', 'Japanese', 'Irish', 'Italian', 'English', 'Polish', 'Portuguese', 'Korean', 'Russian', 'Spanish', 'Vietnamese', 'Scottish']\n"
          ],
          "name": "stdout"
        }
      ]
    },
    {
      "cell_type": "code",
      "metadata": {
        "id": "TTtsY55dpM3N",
        "colab": {
          "base_uri": "https://localhost:8080/"
        },
        "outputId": "389cc408-693e-464b-def6-81f078bd6aee"
      },
      "source": [
        "print(category_lines['Italian'][:5])"
      ],
      "execution_count": 9,
      "outputs": [
        {
          "output_type": "stream",
          "text": [
            "['Abandonato', 'Abatangelo', 'Abatantuono', 'Abate', 'Abategiovanni']\n"
          ],
          "name": "stdout"
        }
      ]
    },
    {
      "cell_type": "code",
      "metadata": {
        "id": "pGrSApG2j60W"
      },
      "source": [
        "import torch\n",
        "\n",
        "# Find letter index from all_letters, e.g. \"a\" = 0\n",
        "def letterToIndex(letter):\n",
        "    return all_letters.find(letter)\n",
        "\n",
        "# Just for demonstration, turn a letter into a <1 x n_letters> Tensor\n",
        "def letterToTensor(letter):\n",
        "    tensor = torch.zeros(1, n_letters)\n",
        "    tensor[0][letterToIndex(letter)] = 1\n",
        "    return tensor\n",
        "\n",
        "# Turn a line into a <line_length x 1 x n_letters>,\n",
        "# or an array of one-hot letter vectors\n",
        "def lineToTensor(line):\n",
        "    tensor = torch.zeros(len(line), 1, n_letters)\n",
        "    for li, letter in enumerate(line):\n",
        "        tensor[li][0][letterToIndex(letter)] = 1\n",
        "    return tensor"
      ],
      "execution_count": 10,
      "outputs": []
    },
    {
      "cell_type": "code",
      "metadata": {
        "id": "fZ_UVM65ker9",
        "colab": {
          "base_uri": "https://localhost:8080/"
        },
        "outputId": "32da2fbd-7f2c-4294-ae07-db04405aeaef"
      },
      "source": [
        "print(letterToTensor('J'))\n",
        "\n",
        "print(lineToTensor('Jones').size())"
      ],
      "execution_count": 11,
      "outputs": [
        {
          "output_type": "stream",
          "text": [
            "tensor([[0., 0., 0., 0., 0., 0., 0., 0., 0., 0., 0., 0., 0., 0., 0., 0., 0., 0.,\n",
            "         0., 0., 0., 0., 0., 0., 0., 0., 0., 0., 0., 0., 0., 0., 0., 0., 0., 1.,\n",
            "         0., 0., 0., 0., 0., 0., 0., 0., 0., 0., 0., 0., 0., 0., 0., 0., 0., 0.,\n",
            "         0., 0., 0.]])\n",
            "torch.Size([5, 1, 57])\n"
          ],
          "name": "stdout"
        }
      ]
    },
    {
      "cell_type": "code",
      "metadata": {
        "id": "iq9gtokgmXC8",
        "colab": {
          "base_uri": "https://localhost:8080/"
        },
        "outputId": "f1824d6e-6fe3-4dae-f25d-2d76a05f0501"
      },
      "source": [
        "n_letters"
      ],
      "execution_count": 12,
      "outputs": [
        {
          "output_type": "execute_result",
          "data": {
            "text/plain": [
              "57"
            ]
          },
          "metadata": {
            "tags": []
          },
          "execution_count": 12
        }
      ]
    },
    {
      "cell_type": "markdown",
      "metadata": {
        "id": "ykO55k8IqSpY"
      },
      "source": [
        "#### Defining RNN model"
      ]
    },
    {
      "cell_type": "code",
      "metadata": {
        "id": "LliGYNy0rP7y"
      },
      "source": [
        "import torch.nn as nn\n",
        "\n",
        "class RNN(nn.Module):\n",
        "    def __init__(self, input_size, hidden_size, output_size):\n",
        "        super(RNN, self).__init__()\n",
        "\n",
        "        self.hidden_size = hidden_size\n",
        "\n",
        "        self.i2h = nn.Linear(input_size + hidden_size, hidden_size)\n",
        "        self.i2o = nn.Linear(input_size + hidden_size, output_size)\n",
        "        self.softmax = nn.LogSoftmax(dim=1)\n",
        "\n",
        "    def forward(self, input, hidden):\n",
        "        combined = torch.cat((input, hidden), 1)\n",
        "        hidden = self.i2h(combined)\n",
        "        output = self.i2o(combined)\n",
        "        output = self.softmax(output)\n",
        "        return output, hidden\n",
        "\n",
        "    def initHidden(self):\n",
        "        return torch.zeros(1, self.hidden_size)\n",
        "\n",
        "n_hidden = 128\n",
        "rnn = RNN(n_letters, n_hidden, n_categories)"
      ],
      "execution_count": 13,
      "outputs": []
    },
    {
      "cell_type": "code",
      "metadata": {
        "colab": {
          "base_uri": "https://localhost:8080/"
        },
        "id": "lTldzhgEqb-2",
        "outputId": "3ce6b81a-84a1-4253-d631-bcef9abf7ca8"
      },
      "source": [
        "rnn"
      ],
      "execution_count": 14,
      "outputs": [
        {
          "output_type": "execute_result",
          "data": {
            "text/plain": [
              "RNN(\n",
              "  (i2h): Linear(in_features=185, out_features=128, bias=True)\n",
              "  (i2o): Linear(in_features=185, out_features=18, bias=True)\n",
              "  (softmax): LogSoftmax(dim=1)\n",
              ")"
            ]
          },
          "metadata": {
            "tags": []
          },
          "execution_count": 14
        }
      ]
    },
    {
      "cell_type": "code",
      "metadata": {
        "id": "psMtEqSrvs_-"
      },
      "source": [
        "input = letterToTensor('A')\n",
        "hidden =torch.zeros(1, n_hidden)\n",
        "\n",
        "output, next_hidden = rnn(input, hidden)"
      ],
      "execution_count": 15,
      "outputs": []
    },
    {
      "cell_type": "code",
      "metadata": {
        "id": "Xo-XyrJbv5PE",
        "colab": {
          "base_uri": "https://localhost:8080/"
        },
        "outputId": "fd1a15b3-9b64-4b3c-89a7-931568552461"
      },
      "source": [
        "input = lineToTensor('Albert')\n",
        "hidden = torch.zeros(1, n_hidden)\n",
        "\n",
        "output, next_hidden = rnn(input[0], hidden)\n",
        "print(output)"
      ],
      "execution_count": 16,
      "outputs": [
        {
          "output_type": "stream",
          "text": [
            "tensor([[-2.7919, -2.8135, -2.9170, -2.8296, -2.8149, -2.9174, -2.9847, -2.9797,\n",
            "         -2.9004, -2.9410, -2.9694, -2.9667, -2.9331, -2.9184, -2.8410, -2.8624,\n",
            "         -2.9375, -2.7511]], grad_fn=<LogSoftmaxBackward>)\n"
          ],
          "name": "stdout"
        }
      ]
    },
    {
      "cell_type": "markdown",
      "metadata": {
        "id": "xnSfHmFZ6RNe"
      },
      "source": [
        "#### Defining Basic LSTM model"
      ]
    },
    {
      "cell_type": "code",
      "metadata": {
        "id": "tl0QkaJiMgmB"
      },
      "source": [
        "class LSTMNet(nn.Module):\n",
        "    def __init__(self, input_size, hidden_size, output_size):\n",
        "        super(LSTMNet, self).__init__()\n",
        "\n",
        "        self.hidden_size = hidden_size\n",
        "\n",
        "        self.lstm_cell = nn.LSTM(input_size, hidden_size, num_layers = 1)\n",
        "        self.h2o = nn.Linear(hidden_size, output_size)\n",
        "        self.softmax = nn.LogSoftmax(dim=2)\n",
        "\n",
        "    def forward(self, input, hidden):\n",
        "        lstm_out, hidden = self.lstm_cell(input.view(1,1,-1), hidden)  # hidden = (hidden state, cell state)\n",
        "        #print(hidden[0].shape)\n",
        "        output = self.h2o(hidden[0])  # taking hidden state\n",
        "        output = self.softmax(output)\n",
        "        return output.view(1,-1), hidden\n",
        "\n",
        "    def initHidden(self):\n",
        "        return (torch.zeros(1, 1, self.hidden_size), torch.zeros(1, 1, self.hidden_size)) # hidden state and hidden cell state\n",
        "# Reshaping is done bcz lstm takes input as 3D tensor only.\n",
        "n_hidden = 128\n",
        "lstm = LSTMNet(n_letters, n_hidden, n_categories)"
      ],
      "execution_count": 17,
      "outputs": []
    },
    {
      "cell_type": "code",
      "metadata": {
        "colab": {
          "base_uri": "https://localhost:8080/"
        },
        "id": "hxo_lfA-T4hi",
        "outputId": "f95dc430-416c-49a9-c030-570a8fb161e9"
      },
      "source": [
        "lstm"
      ],
      "execution_count": 18,
      "outputs": [
        {
          "output_type": "execute_result",
          "data": {
            "text/plain": [
              "LSTMNet(\n",
              "  (lstm_cell): LSTM(57, 128)\n",
              "  (h2o): Linear(in_features=128, out_features=18, bias=True)\n",
              "  (softmax): LogSoftmax(dim=2)\n",
              ")"
            ]
          },
          "metadata": {
            "tags": []
          },
          "execution_count": 18
        }
      ]
    },
    {
      "cell_type": "code",
      "metadata": {
        "id": "sF13m-OoordZ"
      },
      "source": [
        "input = letterToTensor('A')\n",
        "hidden = (torch.zeros(1,1, n_hidden), torch.zeros(1,1, n_hidden))\n",
        "\n",
        "output, next_hidden = lstm(input, hidden)"
      ],
      "execution_count": 19,
      "outputs": []
    },
    {
      "cell_type": "code",
      "metadata": {
        "colab": {
          "base_uri": "https://localhost:8080/"
        },
        "id": "SAoYh9mDQ2UY",
        "outputId": "9a9ea1b0-f303-4f5b-c0e1-d8894cf47c4b"
      },
      "source": [
        "input = lineToTensor('Albert')\n",
        "hidden = (torch.zeros(1,1, n_hidden), torch.zeros(1,1, n_hidden))\n",
        "\n",
        "output, next_hidden = lstm(input[0], hidden)\n",
        "print(output)"
      ],
      "execution_count": 20,
      "outputs": [
        {
          "output_type": "stream",
          "text": [
            "tensor([[-2.8567, -2.9570, -2.8086, -2.9249, -2.9202, -2.9006, -2.8904, -2.8539,\n",
            "         -2.9529, -2.8741, -2.9101, -2.8557, -2.8390, -2.9410, -2.9709, -2.7963,\n",
            "         -2.8717, -2.9247]], grad_fn=<ViewBackward>)\n"
          ],
          "name": "stdout"
        }
      ]
    },
    {
      "cell_type": "code",
      "metadata": {
        "id": "83x_nvO_wQ56",
        "colab": {
          "base_uri": "https://localhost:8080/"
        },
        "outputId": "1ea02282-fe65-42b0-9b8c-e0fedd780a68"
      },
      "source": [
        "def categoryFromOutput(output):\n",
        "    top_n, top_i = output.topk(1)\n",
        "    category_i = top_i[0].item()\n",
        "    return all_categories[category_i], category_i\n",
        "\n",
        "print(categoryFromOutput(output))"
      ],
      "execution_count": 25,
      "outputs": [
        {
          "output_type": "stream",
          "text": [
            "('English', 10)\n"
          ],
          "name": "stdout"
        }
      ]
    },
    {
      "cell_type": "code",
      "metadata": {
        "id": "IXCmvQ6UwXDE",
        "colab": {
          "base_uri": "https://localhost:8080/"
        },
        "outputId": "c0c58677-1a59-445e-fc7e-c1fae4e5d659"
      },
      "source": [
        "import random\n",
        "\n",
        "def randomChoice(l):\n",
        "    return l[random.randint(0, len(l) - 1)]\n",
        "\n",
        "def randomTrainingExample():\n",
        "    category = randomChoice(all_categories)\n",
        "    line = randomChoice(category_lines[category])\n",
        "    category_tensor = torch.tensor([all_categories.index(category)], dtype=torch.long)\n",
        "    line_tensor = lineToTensor(line)\n",
        "    return category, line, category_tensor, line_tensor\n",
        "\n",
        "for i in range(10):\n",
        "    category, line, category_tensor, line_tensor = randomTrainingExample()\n",
        "    print('category =', category, '/ line =', line)"
      ],
      "execution_count": 26,
      "outputs": [
        {
          "output_type": "stream",
          "text": [
            "category = Portuguese / line = Costa\n",
            "category = Arabic / line = Baz\n",
            "category = French / line = Lamar\n",
            "category = Irish / line = O'Gorman\n",
            "category = Polish / line = Bartosz\n",
            "category = Chinese / line = Chew\n",
            "category = Irish / line = O'Reilly\n",
            "category = Japanese / line = Tsuji\n",
            "category = Korean / line = Rim\n",
            "category = Vietnamese / line = Dang\n"
          ],
          "name": "stdout"
        }
      ]
    },
    {
      "cell_type": "code",
      "metadata": {
        "id": "XUTQBmFJwbMY"
      },
      "source": [
        "criterion = nn.NLLLoss()"
      ],
      "execution_count": 27,
      "outputs": []
    },
    {
      "cell_type": "markdown",
      "metadata": {
        "id": "_XTqIftZ8-KE"
      },
      "source": [
        "#### Training the model"
      ]
    },
    {
      "cell_type": "code",
      "metadata": {
        "id": "pulK-MlNTZz6"
      },
      "source": [
        "learning_rate = 0.005 # If you set this too high, it might explode. If too low, it might not learn\n",
        "\n",
        "def train(model, category_tensor, line_tensor):\n",
        "    hidden = model.initHidden()\n",
        "\n",
        "    model.zero_grad()\n",
        "\n",
        "    for i in range(line_tensor.size()[0]):\n",
        "        output, hidden = model(line_tensor[i], hidden)\n",
        "\n",
        "    loss = criterion(output, category_tensor)\n",
        "    loss.backward()\n",
        "\n",
        "    # Add parameters' gradients to their values, multiplied by learning rate\n",
        "    for p in model.parameters():\n",
        "        p.data.add_(p.grad.data, alpha=-learning_rate)\n",
        "\n",
        "    return output, loss.item()"
      ],
      "execution_count": 66,
      "outputs": []
    },
    {
      "cell_type": "markdown",
      "metadata": {
        "id": "z_-qSPC27k-Q"
      },
      "source": [
        "#### Plot for rnn model (lr = 0.005)"
      ]
    },
    {
      "cell_type": "code",
      "metadata": {
        "id": "o8-m4UErwuSf",
        "colab": {
          "base_uri": "https://localhost:8080/"
        },
        "outputId": "b22f7ff3-fa6a-431d-cd82-5bef02df7ee7"
      },
      "source": [
        "import time\n",
        "import math\n",
        "\n",
        "n_iters = 100000\n",
        "print_every = 5000\n",
        "plot_every = 1000\n",
        "\n",
        "# Keep track of losses for plotting\n",
        "current_loss = 0\n",
        "all_losses = []\n",
        "\n",
        "def timeSince(since):\n",
        "    now = time.time()\n",
        "    s = now - since\n",
        "    m = math.floor(s / 60)\n",
        "    s -= m * 60\n",
        "    return '%dm %ds' % (m, s)\n",
        "\n",
        "start = time.time()\n",
        "\n",
        "for iter in range(1, n_iters + 1):\n",
        "    category, line, category_tensor, line_tensor = randomTrainingExample()\n",
        "    output, loss = train(rnn, category_tensor, line_tensor)\n",
        "    current_loss += loss\n",
        "\n",
        "    # Print iter number, loss, name and guess\n",
        "    if iter % print_every == 0:\n",
        "        guess, guess_i = categoryFromOutput(output)\n",
        "        correct = '✓' if guess == category else '✗ (%s)' % category\n",
        "        print('%d %d%% (%s) %.4f %s / %s %s' % (iter, iter / n_iters * 100, timeSince(start), loss, line, guess, correct))\n",
        "\n",
        "    # Add current loss avg to list of losses\n",
        "    if iter % plot_every == 0:\n",
        "        all_losses.append(current_loss / plot_every)\n",
        "        current_loss = 0"
      ],
      "execution_count": 29,
      "outputs": [
        {
          "output_type": "stream",
          "text": [
            "5000 5% (0m 7s) 2.9291 Phocas / Arabic ✗ (Greek)\n",
            "10000 10% (0m 14s) 1.3971 Vu / Vietnamese ✓\n",
            "15000 15% (0m 22s) 0.9166 Quang / Vietnamese ✓\n",
            "20000 20% (0m 29s) 1.1536 Wasem / Arabic ✓\n",
            "25000 25% (0m 37s) 2.9483 Harger / French ✗ (Czech)\n",
            "30000 30% (0m 45s) 2.8640 Paterson / Scottish ✗ (English)\n",
            "35000 35% (0m 53s) 4.2427 Yagupa / Japanese ✗ (Russian)\n",
            "40000 40% (1m 0s) 1.0324 Chung / Chinese ✗ (Korean)\n",
            "45000 45% (1m 8s) 1.4177 Chu / Vietnamese ✗ (Korean)\n",
            "50000 50% (1m 15s) 2.9785 Alsop / Scottish ✗ (English)\n",
            "55000 55% (1m 22s) 2.4107 Weisener / German ✗ (Czech)\n",
            "60000 60% (1m 30s) 1.1974 Patril / Czech ✓\n",
            "65000 65% (1m 37s) 1.2824 Langford / English ✓\n",
            "70000 70% (1m 45s) 0.6022 Yuan / Chinese ✓\n",
            "75000 75% (1m 52s) 1.8370 Rahal / Irish ✗ (Arabic)\n",
            "80000 80% (2m 0s) 2.3521 Tosell / French ✗ (Spanish)\n",
            "85000 85% (2m 7s) 1.0945 Pereira / Portuguese ✓\n",
            "90000 90% (2m 15s) 0.4034 Uehara / Japanese ✓\n",
            "95000 95% (2m 22s) 0.8271 Ibarra / Spanish ✓\n",
            "100000 100% (2m 29s) 1.4392 Duguay / Scottish ✗ (French)\n"
          ],
          "name": "stdout"
        }
      ]
    },
    {
      "cell_type": "code",
      "metadata": {
        "id": "nYB96t330MXo",
        "colab": {
          "base_uri": "https://localhost:8080/",
          "height": 282
        },
        "outputId": "2dd2a964-16c8-4b06-f17f-c722fe5ed655"
      },
      "source": [
        "import matplotlib.pyplot as plt\n",
        "import matplotlib.ticker as ticker\n",
        "\n",
        "plt.figure()\n",
        "plt.plot(all_losses)"
      ],
      "execution_count": 30,
      "outputs": [
        {
          "output_type": "execute_result",
          "data": {
            "text/plain": [
              "[<matplotlib.lines.Line2D at 0x7f64bf090d30>]"
            ]
          },
          "metadata": {
            "tags": []
          },
          "execution_count": 30
        },
        {
          "output_type": "display_data",
          "data": {
            "image/png": "[encoded data removed]",
            "text/plain": [
              "<Figure size 432x288 with 1 Axes>"
            ]
          },
          "metadata": {
            "tags": [],
            "needs_background": "light"
          }
        }
      ]
    },
    {
      "cell_type": "code",
      "metadata": {
        "id": "EZ8EbgWT0Qsy",
        "colab": {
          "base_uri": "https://localhost:8080/",
          "height": 320
        },
        "outputId": "9e34cea3-e615-4274-a95f-ef1d97f2ee8e"
      },
      "source": [
        "# Keep track of correct guesses in a confusion matrix\n",
        "confusion = torch.zeros(n_categories, n_categories)\n",
        "n_confusion = 10000\n",
        "\n",
        "# Just return an output given a line\n",
        "def evaluate(line_tensor):\n",
        "    hidden = rnn.initHidden()\n",
        "\n",
        "    for i in range(line_tensor.size()[0]):\n",
        "        output, hidden = rnn(line_tensor[i], hidden)\n",
        "\n",
        "    return output\n",
        "\n",
        "# Go through a bunch of examples and record which are correctly guessed\n",
        "for i in range(n_confusion):\n",
        "    category, line, category_tensor, line_tensor = randomTrainingExample()\n",
        "    output = evaluate(line_tensor)\n",
        "    guess, guess_i = categoryFromOutput(output)\n",
        "    category_i = all_categories.index(category)\n",
        "    confusion[category_i][guess_i] += 1\n",
        "\n",
        "# Normalize by dividing every row by its sum\n",
        "for i in range(n_categories):\n",
        "    confusion[i] = confusion[i] / confusion[i].sum()\n",
        "\n",
        "# Set up plot\n",
        "fig = plt.figure()\n",
        "ax = fig.add_subplot(111)\n",
        "cax = ax.matshow(confusion.numpy())\n",
        "fig.colorbar(cax)\n",
        "\n",
        "# Set up axes\n",
        "ax.set_xticklabels([''] + all_categories, rotation=90)\n",
        "ax.set_yticklabels([''] + all_categories)\n",
        "\n",
        "# Force label at every tick\n",
        "ax.xaxis.set_major_locator(ticker.MultipleLocator(1))\n",
        "ax.yaxis.set_major_locator(ticker.MultipleLocator(1))\n",
        "\n",
        "# sphinx_gallery_thumbnail_number = 2\n",
        "plt.show()"
      ],
      "execution_count": 31,
      "outputs": [
        {
          "output_type": "display_data",
          "data": {
            "image/png": "[encoded data removed]",
            "text/plain": [
              "<Figure size 432x288 with 2 Axes>"
            ]
          },
          "metadata": {
            "tags": [],
            "needs_background": "light"
          }
        }
      ]
    },
    {
      "cell_type": "code",
      "metadata": {
        "id": "BgcQd7rq0VIe",
        "colab": {
          "base_uri": "https://localhost:8080/"
        },
        "outputId": "21a2db9d-aa4d-4e17-e336-665edf94018c"
      },
      "source": [
        "def predict(input_line, n_predictions=3):\n",
        "    print('\\n> %s' % input_line)\n",
        "    with torch.no_grad():\n",
        "        output = evaluate(lineToTensor(input_line))\n",
        "\n",
        "        # Get top N categories\n",
        "        topv, topi = output.topk(n_predictions, 1, True)\n",
        "        predictions = []\n",
        "\n",
        "        for i in range(n_predictions):\n",
        "            value = topv[0][i].item()\n",
        "            category_index = topi[0][i].item()\n",
        "            print('(%.2f) %s' % (value, all_categories[category_index]))\n",
        "            predictions.append([value, all_categories[category_index]])\n",
        "\n",
        "predict('Dovesky')\n",
        "predict('Jackson')\n",
        "predict('Satoshi')"
      ],
      "execution_count": 32,
      "outputs": [
        {
          "output_type": "stream",
          "text": [
            "\n",
            "> Dovesky\n",
            "(-0.33) Russian\n",
            "(-1.45) Czech\n",
            "(-3.79) English\n",
            "\n",
            "> Jackson\n",
            "(-1.30) Scottish\n",
            "(-1.44) Russian\n",
            "(-1.50) English\n",
            "\n",
            "> Satoshi\n",
            "(-0.41) Japanese\n",
            "(-2.08) Arabic\n",
            "(-2.30) Italian\n"
          ],
          "name": "stdout"
        }
      ]
    },
    {
      "cell_type": "markdown",
      "metadata": {
        "id": "Bjhk8fE17XkM"
      },
      "source": [
        "#### Plot for lstm model (lr = 0.005)"
      ]
    },
    {
      "cell_type": "code",
      "metadata": {
        "colab": {
          "base_uri": "https://localhost:8080/"
        },
        "id": "GqVLy1r6Som3",
        "outputId": "419b1feb-9ea3-401b-9761-879348b66bae"
      },
      "source": [
        "n_iters = 100000\n",
        "print_every = 5000\n",
        "plot_every = 1000\n",
        "\n",
        "# Keep track of losses for plotting\n",
        "current_loss = 0\n",
        "all_losses1 = []\n",
        "\n",
        "def timeSince(since):\n",
        "    now = time.time()\n",
        "    s = now - since\n",
        "    m = math.floor(s / 60)\n",
        "    s -= m * 60\n",
        "    return '%dm %ds' % (m, s)\n",
        "\n",
        "start = time.time()\n",
        "\n",
        "for iter in range(1, n_iters + 1):\n",
        "    category, line, category_tensor, line_tensor = randomTrainingExample()\n",
        "    output, loss = train(lstm, category_tensor, line_tensor)\n",
        "    current_loss += loss\n",
        "\n",
        "    # Print iter number, loss, name and guess\n",
        "    if iter % print_every == 0:\n",
        "        guess, guess_i = categoryFromOutput(output)\n",
        "        correct = '✓' if guess == category else '✗ (%s)' % category\n",
        "        print('%d %d%% (%s) %.4f %s / %s %s' % (iter, iter / n_iters * 100, timeSince(start), loss, line, guess, correct))\n",
        "\n",
        "    # Add current loss avg to list of losses\n",
        "    if iter % plot_every == 0:\n",
        "        all_losses1.append(current_loss / plot_every)\n",
        "        current_loss = 0"
      ],
      "execution_count": 33,
      "outputs": [
        {
          "output_type": "stream",
          "text": [
            "5000 5% (0m 23s) 2.8663 Sowka / Russian ✗ (Polish)\n",
            "10000 10% (0m 46s) 2.8338 Herrmann / English ✗ (German)\n",
            "15000 15% (1m 9s) 2.8501 Michel / Irish ✗ (Polish)\n",
            "20000 20% (1m 33s) 2.9071 Mcguire / Dutch ✗ (Irish)\n",
            "25000 25% (1m 57s) 1.8131 Guo / Chinese ✓\n",
            "30000 30% (2m 20s) 2.0907 Fujioka / Japanese ✓\n",
            "35000 35% (2m 43s) 1.9447 Perugia / Japanese ✗ (Italian)\n",
            "40000 40% (3m 8s) 1.1814 Chellos / Greek ✓\n",
            "45000 45% (3m 31s) 1.1027 Gai / Chinese ✓\n",
            "50000 50% (3m 55s) 1.2428 Xie / Chinese ✓\n",
            "55000 55% (4m 19s) 0.5072 Christodoulou / Greek ✓\n",
            "60000 60% (4m 42s) 1.3657 Han / Vietnamese ✗ (Korean)\n",
            "65000 65% (5m 6s) 1.0219 Von wegberg / German ✓\n",
            "70000 70% (5m 30s) 1.2363 Cameron / French ✗ (Scottish)\n",
            "75000 75% (5m 54s) 0.7067 Salamanca / Spanish ✓\n",
            "80000 80% (6m 18s) 0.7731 Calpis / Greek ✓\n",
            "85000 85% (6m 42s) 1.2123 San / Chinese ✗ (Korean)\n",
            "90000 90% (7m 6s) 3.5651 Thayer / Arabic ✗ (French)\n",
            "95000 95% (7m 31s) 0.8025 Aonghuis / Irish ✓\n",
            "100000 100% (7m 55s) 4.4379 Michel / German ✗ (Polish)\n"
          ],
          "name": "stdout"
        }
      ]
    },
    {
      "cell_type": "code",
      "metadata": {
        "colab": {
          "base_uri": "https://localhost:8080/",
          "height": 282
        },
        "id": "ROrLHee35vSU",
        "outputId": "dcdbb5a1-4235-408a-b68a-ce882baef99c"
      },
      "source": [
        "plt.figure()\n",
        "plt.plot(all_losses1)"
      ],
      "execution_count": 40,
      "outputs": [
        {
          "output_type": "execute_result",
          "data": {
            "text/plain": [
              "[<matplotlib.lines.Line2D at 0x7f64be8e6898>]"
            ]
          },
          "metadata": {
            "tags": []
          },
          "execution_count": 40
        },
        {
          "output_type": "display_data",
          "data": {
            "image/png": "[encoded data removed]",
            "text/plain": [
              "<Figure size 432x288 with 1 Axes>"
            ]
          },
          "metadata": {
            "tags": [],
            "needs_background": "light"
          }
        }
      ]
    },
    {
      "cell_type": "code",
      "metadata": {
        "colab": {
          "base_uri": "https://localhost:8080/",
          "height": 320
        },
        "id": "nroEC3UD8S4J",
        "outputId": "be05bc9a-e993-4c74-f99f-581cde81846e"
      },
      "source": [
        "# Keep track of correct guesses in a confusion matrix\n",
        "confusion = torch.zeros(n_categories, n_categories)\n",
        "n_confusion = 10000\n",
        "\n",
        "# Just return an output given a line\n",
        "def evaluate(line_tensor):\n",
        "    hidden = lstm.initHidden()\n",
        "\n",
        "    for i in range(line_tensor.size()[0]):\n",
        "        output, hidden = lstm(line_tensor[i], hidden)\n",
        "\n",
        "    return output\n",
        "\n",
        "# Go through a bunch of examples and record which are correctly guessed\n",
        "for i in range(n_confusion):\n",
        "    category, line, category_tensor, line_tensor = randomTrainingExample()\n",
        "    output = evaluate(line_tensor)\n",
        "    guess, guess_i = categoryFromOutput(output)\n",
        "    category_i = all_categories.index(category)\n",
        "    confusion[category_i][guess_i] += 1\n",
        "\n",
        "# Normalize by dividing every row by its sum\n",
        "for i in range(n_categories):\n",
        "    confusion[i] = confusion[i] / confusion[i].sum()\n",
        "\n",
        "# Set up plot\n",
        "fig = plt.figure()\n",
        "ax = fig.add_subplot(111)\n",
        "cax = ax.matshow(confusion.numpy())\n",
        "fig.colorbar(cax)\n",
        "\n",
        "# Set up axes\n",
        "ax.set_xticklabels([''] + all_categories, rotation=90)\n",
        "ax.set_yticklabels([''] + all_categories)\n",
        "\n",
        "# Force label at every tick\n",
        "ax.xaxis.set_major_locator(ticker.MultipleLocator(1))\n",
        "ax.yaxis.set_major_locator(ticker.MultipleLocator(1))\n",
        "\n",
        "# sphinx_gallery_thumbnail_number = 2\n",
        "plt.show()"
      ],
      "execution_count": 35,
      "outputs": [
        {
          "output_type": "display_data",
          "data": {
            "image/png": "[encoded data removed]",
            "text/plain": [
              "<Figure size 432x288 with 2 Axes>"
            ]
          },
          "metadata": {
            "tags": [],
            "needs_background": "light"
          }
        }
      ]
    },
    {
      "cell_type": "code",
      "metadata": {
        "colab": {
          "base_uri": "https://localhost:8080/"
        },
        "id": "p_RBKfOjDNfG",
        "outputId": "095cdd24-7fdb-4235-cffd-dc8c9fbeb3d9"
      },
      "source": [
        "def predict(input_line, n_predictions=3):\n",
        "    print('\\n> %s' % input_line)\n",
        "    with torch.no_grad():\n",
        "        output = evaluate(lineToTensor(input_line))\n",
        "\n",
        "        # Get top N categories\n",
        "        topv, topi = output.topk(n_predictions, 1, True)\n",
        "        predictions = []\n",
        "\n",
        "        for i in range(n_predictions):\n",
        "            value = topv[0][i].item()\n",
        "            category_index = topi[0][i].item()\n",
        "            print('(%.2f) %s' % (value, all_categories[category_index]))\n",
        "            predictions.append([value, all_categories[category_index]])\n",
        "\n",
        "predict('Dovesky')\n",
        "predict('Jackson')\n",
        "predict('Satoshi')"
      ],
      "execution_count": 41,
      "outputs": [
        {
          "output_type": "stream",
          "text": [
            "\n",
            "> Dovesky\n",
            "(-0.85) Russian\n",
            "(-1.31) Czech\n",
            "(-2.02) Polish\n",
            "\n",
            "> Jackson\n",
            "(-0.59) Scottish\n",
            "(-2.01) Czech\n",
            "(-2.19) English\n",
            "\n",
            "> Satoshi\n",
            "(-0.97) Japanese\n",
            "(-1.68) Italian\n",
            "(-1.76) Polish\n"
          ],
          "name": "stdout"
        }
      ]
    },
    {
      "cell_type": "code",
      "metadata": {
        "id": "uspRsEoeDhwq",
        "colab": {
          "base_uri": "https://localhost:8080/",
          "height": 281
        },
        "outputId": "9e6cc7b3-d66e-44ad-a309-1ac876b20b1b"
      },
      "source": [
        "plt.plot(all_losses, c = \"green\")\n",
        "plt.plot(lstm_all_losses, c = \"orange\") # when batch_first = True for lstm model\n",
        "plt.plot(all_losses1)\n",
        "plt.title(\"Plot of loss function : RNN (green) vs LSTM (blue)\")\n",
        "plt.show();"
      ],
      "execution_count": 49,
      "outputs": [
        {
          "output_type": "display_data",
          "data": {
            "image/png": "[encoded data removed]",
            "text/plain": [
              "<Figure size 432x288 with 1 Axes>"
            ]
          },
          "metadata": {
            "tags": [],
            "needs_background": "light"
          }
        }
      ]
    },
    {
      "cell_type": "markdown",
      "metadata": {
        "id": "5De--0RGC3kK"
      },
      "source": [
        "#### Plot of rnn model (lr = 0.01)"
      ]
    },
    {
      "cell_type": "code",
      "metadata": {
        "colab": {
          "base_uri": "https://localhost:8080/"
        },
        "id": "ed-DwQhZ7P0D",
        "outputId": "1aac3468-44e3-4c5f-bb03-a524aaccbe40"
      },
      "source": [
        "n_iters = 100000\n",
        "print_every = 5000\n",
        "plot_every = 1000\n",
        "\n",
        "# Keep track of losses for plotting\n",
        "current_loss = 0\n",
        "all_losses = []\n",
        "\n",
        "def timeSince(since):\n",
        "    now = time.time()\n",
        "    s = now - since\n",
        "    m = math.floor(s / 60)\n",
        "    s -= m * 60\n",
        "    return '%dm %ds' % (m, s)\n",
        "\n",
        "start = time.time()\n",
        "\n",
        "for iter in range(1, n_iters + 1):\n",
        "    category, line, category_tensor, line_tensor = randomTrainingExample()\n",
        "    output, loss = train(rnn, category_tensor, line_tensor)\n",
        "    current_loss += loss\n",
        "\n",
        "    # Print iter number, loss, name and guess\n",
        "    if iter % print_every == 0:\n",
        "        guess, guess_i = categoryFromOutput(output)\n",
        "        correct = '✓' if guess == category else '✗ (%s)' % category\n",
        "        print('%d %d%% (%s) %.4f %s / %s %s' % (iter, iter / n_iters * 100, timeSince(start), loss, line, guess, correct))\n",
        "\n",
        "    # Add current loss avg to list of losses\n",
        "    if iter % plot_every == 0:\n",
        "        all_losses.append(current_loss / plot_every)\n",
        "        current_loss = 0"
      ],
      "execution_count": 62,
      "outputs": [
        {
          "output_type": "stream",
          "text": [
            "5000 5% (0m 7s) 0.0852 Antonopoulos / Greek ✓\n",
            "10000 10% (0m 15s) 1.7968 Tudor / English ✓\n",
            "15000 15% (0m 23s) 0.5285 Yim / Korean ✓\n",
            "20000 20% (0m 31s) 1.3271 Robert / Dutch ✗ (French)\n",
            "25000 25% (0m 39s) 0.6243 Suh / Korean ✓\n",
            "30000 30% (0m 47s) 2.7030 Aodha / Arabic ✗ (Irish)\n",
            "35000 35% (0m 55s) 0.8080 Yuan / Chinese ✓\n",
            "40000 40% (1m 3s) 0.6131 D'cruze / Portuguese ✓\n",
            "45000 45% (1m 11s) 1.3650 Etxeberria / Spanish ✓\n",
            "50000 50% (1m 19s) 0.6329 David / French ✓\n",
            "55000 55% (1m 27s) 7.8106 Loi / Chinese ✗ (Russian)\n",
            "60000 60% (1m 36s) 0.0311 O'Hannagain / Irish ✓\n",
            "65000 65% (1m 46s) 2.0366 StrakaO / Dutch ✗ (Czech)\n",
            "70000 70% (1m 55s) 2.6346 Muir / German ✗ (Scottish)\n",
            "75000 75% (2m 3s) 1.4790 Campbell / Dutch ✗ (Scottish)\n",
            "80000 80% (2m 11s) 0.5913 Vispovatyh / Russian ✓\n",
            "85000 85% (2m 19s) 0.5618 Smeets / Dutch ✓\n",
            "90000 90% (2m 27s) 0.9441 Mah / Vietnamese ✗ (Chinese)\n",
            "95000 95% (2m 35s) 0.1196 Izumi / Japanese ✓\n",
            "100000 100% (2m 43s) 0.6608 Leveque / French ✓\n"
          ],
          "name": "stdout"
        }
      ]
    },
    {
      "cell_type": "code",
      "metadata": {
        "colab": {
          "base_uri": "https://localhost:8080/",
          "height": 320
        },
        "id": "2zooCzXSCeNt",
        "outputId": "d6380514-215f-4bb2-99d9-10c1f21e70cb"
      },
      "source": [
        "# Keep track of correct guesses in a confusion matrix\n",
        "confusion = torch.zeros(n_categories, n_categories)\n",
        "n_confusion = 10000\n",
        "\n",
        "# Just return an output given a line\n",
        "def evaluate(line_tensor):\n",
        "    hidden = rnn.initHidden()\n",
        "\n",
        "    for i in range(line_tensor.size()[0]):\n",
        "        output, hidden = rnn(line_tensor[i], hidden)\n",
        "\n",
        "    return output\n",
        "\n",
        "# Go through a bunch of examples and record which are correctly guessed\n",
        "for i in range(n_confusion):\n",
        "    category, line, category_tensor, line_tensor = randomTrainingExample()\n",
        "    output = evaluate(line_tensor)\n",
        "    guess, guess_i = categoryFromOutput(output)\n",
        "    category_i = all_categories.index(category)\n",
        "    confusion[category_i][guess_i] += 1\n",
        "\n",
        "# Normalize by dividing every row by its sum\n",
        "for i in range(n_categories):\n",
        "    confusion[i] = confusion[i] / confusion[i].sum()\n",
        "\n",
        "# Set up plot\n",
        "fig = plt.figure()\n",
        "ax = fig.add_subplot(111)\n",
        "cax = ax.matshow(confusion.numpy())\n",
        "fig.colorbar(cax)\n",
        "\n",
        "# Set up axes\n",
        "ax.set_xticklabels([''] + all_categories, rotation=90)\n",
        "ax.set_yticklabels([''] + all_categories)\n",
        "\n",
        "# Force label at every tick\n",
        "ax.xaxis.set_major_locator(ticker.MultipleLocator(1))\n",
        "ax.yaxis.set_major_locator(ticker.MultipleLocator(1))\n",
        "\n",
        "# sphinx_gallery_thumbnail_number = 2\n",
        "plt.show()"
      ],
      "execution_count": 68,
      "outputs": [
        {
          "output_type": "display_data",
          "data": {
            "image/png": "[encoded data removed]",
            "text/plain": [
              "<Figure size 432x288 with 2 Axes>"
            ]
          },
          "metadata": {
            "tags": [],
            "needs_background": "light"
          }
        }
      ]
    },
    {
      "cell_type": "markdown",
      "metadata": {
        "id": "-CE66T5JC8-3"
      },
      "source": [
        "#### Plot of lstm model (lr = 0.01)"
      ]
    },
    {
      "cell_type": "code",
      "metadata": {
        "colab": {
          "base_uri": "https://localhost:8080/"
        },
        "id": "ZHe_FrT17Rzo",
        "outputId": "1bda1a3b-b37d-42cd-8384-ad98a8bf9d34"
      },
      "source": [
        "# Keep track of losses for plotting\n",
        "current_loss = 0\n",
        "all_losses1 = []\n",
        "\n",
        "def timeSince(since):\n",
        "    now = time.time()\n",
        "    s = now - since\n",
        "    m = math.floor(s / 60)\n",
        "    s -= m * 60\n",
        "    return '%dm %ds' % (m, s)\n",
        "\n",
        "start = time.time()\n",
        "\n",
        "for iter in range(1, n_iters + 1):\n",
        "    category, line, category_tensor, line_tensor = randomTrainingExample()\n",
        "    output, loss = train(lstm, category_tensor, line_tensor)\n",
        "    current_loss += loss\n",
        "\n",
        "    # Print iter number, loss, name and guess\n",
        "    if iter % print_every == 0:\n",
        "        guess, guess_i = categoryFromOutput(output)\n",
        "        correct = '✓' if guess == category else '✗ (%s)' % category\n",
        "        print('%d %d%% (%s) %.4f %s / %s %s' % (iter, iter / n_iters * 100, timeSince(start), loss, line, guess, correct))\n",
        "\n",
        "    # Add current loss avg to list of losses\n",
        "    if iter % plot_every == 0:\n",
        "        all_losses1.append(current_loss / plot_every)\n",
        "        current_loss = 0"
      ],
      "execution_count": 63,
      "outputs": [
        {
          "output_type": "stream",
          "text": [
            "5000 5% (0m 24s) 0.0276 Filipowski / Polish ✓\n",
            "10000 10% (0m 50s) 1.7320 Schultheiss / Dutch ✗ (German)\n",
            "15000 15% (1m 15s) 0.4809 Tahan / Arabic ✓\n",
            "20000 20% (1m 40s) 0.5523 Severijns / Dutch ✓\n",
            "25000 25% (2m 4s) 0.0589 Utagawa / Japanese ✓\n",
            "30000 30% (2m 29s) 0.5347 Rocco / Italian ✓\n",
            "35000 35% (2m 53s) 0.6569 Gravari / Greek ✓\n",
            "40000 40% (3m 17s) 0.0035 Katayanagi / Japanese ✓\n",
            "45000 45% (3m 42s) 0.1575 Hadad / Arabic ✓\n",
            "50000 50% (4m 7s) 0.0068 Assaf / Arabic ✓\n",
            "55000 55% (4m 32s) 0.5695 Kijek / Polish ✓\n",
            "60000 60% (4m 57s) 0.7181 Garcia / Portuguese ✓\n",
            "65000 65% (5m 21s) 3.6050 Lucas / Spanish ✗ (English)\n",
            "70000 70% (5m 46s) 2.2877 Cerv / Russian ✗ (Czech)\n",
            "75000 75% (6m 10s) 0.0009 O'Meara / Irish ✓\n",
            "80000 80% (6m 35s) 3.8873 Plouvin / French ✗ (English)\n",
            "85000 85% (7m 0s) 9.9246 Ohara / Japanese ✗ (English)\n",
            "90000 90% (7m 25s) 3.1192 Mcmahon / Irish ✗ (English)\n",
            "95000 95% (7m 49s) 0.0148 O'Malley / Irish ✓\n",
            "100000 100% (8m 14s) 0.4736 Zinin / Russian ✓\n"
          ],
          "name": "stdout"
        }
      ]
    },
    {
      "cell_type": "code",
      "metadata": {
        "colab": {
          "base_uri": "https://localhost:8080/",
          "height": 320
        },
        "id": "OuYWr7nPCg0E",
        "outputId": "89cd95c4-71a7-4df4-f5db-7f0bc6f56423"
      },
      "source": [
        "# Keep track of correct guesses in a confusion matrix\n",
        "confusion = torch.zeros(n_categories, n_categories)\n",
        "n_confusion = 10000\n",
        "\n",
        "# Just return an output given a line\n",
        "def evaluate(line_tensor):\n",
        "    hidden = lstm.initHidden()\n",
        "\n",
        "    for i in range(line_tensor.size()[0]):\n",
        "        output, hidden = lstm(line_tensor[i], hidden)\n",
        "\n",
        "    return output\n",
        "\n",
        "# Go through a bunch of examples and record which are correctly guessed\n",
        "for i in range(n_confusion):\n",
        "    category, line, category_tensor, line_tensor = randomTrainingExample()\n",
        "    output = evaluate(line_tensor)\n",
        "    guess, guess_i = categoryFromOutput(output)\n",
        "    category_i = all_categories.index(category)\n",
        "    confusion[category_i][guess_i] += 1\n",
        "\n",
        "# Normalize by dividing every row by its sum\n",
        "for i in range(n_categories):\n",
        "    confusion[i] = confusion[i] / confusion[i].sum()\n",
        "\n",
        "# Set up plot\n",
        "fig = plt.figure()\n",
        "ax = fig.add_subplot(111)\n",
        "cax = ax.matshow(confusion.numpy())\n",
        "fig.colorbar(cax)\n",
        "\n",
        "# Set up axes\n",
        "ax.set_xticklabels([''] + all_categories, rotation=90)\n",
        "ax.set_yticklabels([''] + all_categories)\n",
        "\n",
        "# Force label at every tick\n",
        "ax.xaxis.set_major_locator(ticker.MultipleLocator(1))\n",
        "ax.yaxis.set_major_locator(ticker.MultipleLocator(1))\n",
        "\n",
        "# sphinx_gallery_thumbnail_number = 2\n",
        "plt.show()"
      ],
      "execution_count": 67,
      "outputs": [
        {
          "output_type": "display_data",
          "data": {
            "image/png": "[encoded data removed]",
            "text/plain": [
              "<Figure size 432x288 with 2 Axes>"
            ]
          },
          "metadata": {
            "tags": [],
            "needs_background": "light"
          }
        }
      ]
    },
    {
      "cell_type": "code",
      "metadata": {
        "colab": {
          "base_uri": "https://localhost:8080/",
          "height": 281
        },
        "id": "EqFfyYlc-JlK",
        "outputId": "7ecd7867-8ffb-452e-bec8-096fd56d85b8"
      },
      "source": [
        "# lr = 0.01\n",
        "plt.plot(all_losses, c = \"green\")\n",
        "plt.plot(all_losses1)\n",
        "plt.title(\"Plot of loss function (lr = 0.01) : RNN (green) vs LSTM (blue)\")\n",
        "plt.show();"
      ],
      "execution_count": 64,
      "outputs": [
        {
          "output_type": "display_data",
          "data": {
            "image/png": "[encoded data removed]",
            "text/plain": [
              "<Figure size 432x288 with 1 Axes>"
            ]
          },
          "metadata": {
            "tags": [],
            "needs_background": "light"
          }
        }
      ]
    },
    {
      "cell_type": "code",
      "metadata": {
        "colab": {
          "base_uri": "https://localhost:8080/",
          "height": 281
        },
        "id": "eQjx9Y837xC-",
        "outputId": "51ea8ac4-c88b-4697-d7eb-afd43fe06b0a"
      },
      "source": [
        "# lr = 0.001\n",
        "plt.plot(all_losses, c = \"green\")\n",
        "plt.plot(all_losses1)\n",
        "plt.title(\"Plot of loss function : RNN (green) vs LSTM (blue)\")\n",
        "plt.show();"
      ],
      "execution_count": 60,
      "outputs": [
        {
          "output_type": "display_data",
          "data": {
            "image/png": "[encoded data removed]",
            "text/plain": [
              "<Figure size 432x288 with 1 Axes>"
            ]
          },
          "metadata": {
            "tags": [],
            "needs_background": "light"
          }
        }
      ]
    },
    {
      "cell_type": "markdown",
      "metadata": {
        "id": "n4oIkXdyDKVQ"
      },
      "source": [
        "**Summary**\n",
        "\n",
        "For lr = 0.01, lstm model perform much better than rnn model whereas for smaller learning rates such as 0.001 and 0.005, rnn model perform better than lstm model. "
      ]
    },
    {
      "cell_type": "code",
      "metadata": {
        "id": "LCwz2aetDy59"
      },
      "source": [
        ""
      ],
      "execution_count": null,
      "outputs": []
    }
  ]
}